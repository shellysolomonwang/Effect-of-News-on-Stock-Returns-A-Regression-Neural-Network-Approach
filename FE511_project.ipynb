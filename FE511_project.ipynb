{
 "cells": [
  {
   "cell_type": "markdown",
   "metadata": {},
   "source": [
    "# FE511 Final Project\n",
    "## Topic: Effect of News on Stock Returns\n",
    "## Prepared by: Tianrui Wang\n",
    "## Guided by: Prof. Stavros Tsarpalis"
   ]
  },
  {
   "cell_type": "markdown",
   "metadata": {},
   "source": [
    "# 1. Thesis\n",
    "Stock price prediction has been an ongoing topic both within the industry and academia. At each given point in time, the market is affected by various factors with different levels of significance. Financial data from different sources has been used in predicting the stock market: using either the historical data or the textual data from the news alone can be insufficient for a market with such volume and velocity. Furthermore, some assets might be more sensitive to the news information than the others. This project aims to evaluate the effect of company-related news on the stock prices. It is assumed that the prediction of stock returns will be improved when taking into consideration the news-related data.\n"
   ]
  },
  {
   "cell_type": "markdown",
   "metadata": {},
   "source": [
    "# 2. Methodology\n",
    "\n",
    "This project aims to compare the performance of a stock return prediction model with or without the use of news features. \n",
    "\n",
    "Section 2.1 talked about the two data sources, one is the stock-related news data found on Kaggle.com; the other is the stock data retrieved from WRDS, given the assets mentioned in the first data source. The trading period we are looking at is from 2013-01-01 to 2016-12-31. Since the original datasets are too large, I extracted a sample that contains 100 randomly selected assets, and made sure that each of them has at least 1,000 data points in the final dataset we are used for training and testing.\n",
    "\n",
    "Section 2.2 talked about the model used, which is a regression NN model with a few Dense Layers, BatchNormalization Layers, and Dropout Layers. Also, I used an embedding layer to process a unique feature among the others, `assetCode`. It is believed that this layer is important for the model to distinguish one asset from another. The details of the model used can be found below.\n"
   ]
  },
  {
   "cell_type": "markdown",
   "metadata": {},
   "source": [
    "## 2.1 Data\n",
    "There are two source of data used in this project.\n"
   ]
  },
  {
   "cell_type": "markdown",
   "metadata": {},
   "source": [
    "### 1. Stock-related News Data from Kaggle Competetion (https://www.kaggle.com/c/two-sigma-financial-news/data) with variables including:\n",
    "    - Date\n",
    "    - Asset Code (Ticker)\n",
    "    - Headline (Textual Data)\n",
    "    - Relevancy Info (Numerical Data)\n",
    "    - Sentiment Info (Numerical Data)\n",
    "    - News Artical Info (Numerical Data)\n",
    "    - Time Effect of News counted by Novelty (Numerical Data)\n",
    "    - Time Effect of News counted by Trading Volume (Numerical Data)\n",
    "    \n",
    "<img src=\"./img/market_data.png\" width=\"60%\">"
   ]
  },
  {
   "cell_type": "code",
   "execution_count": 1,
   "metadata": {},
   "outputs": [],
   "source": [
    "# load news data\n",
    "import pandas as pd\n",
    "path = \"/Users/shelly/Google Drive/BIA678/Kaggle-2Sigma/news_train_from2013.csv\"\n",
    "news_df = pd.read_csv(path)"
   ]
  },
  {
   "cell_type": "code",
   "execution_count": 2,
   "metadata": {},
   "outputs": [],
   "source": [
    "# retain news from '2013-01-01' to '2016-12-30'\n",
    "news_df = news_df[(news_df.time >= '2013-01-01') & (news_df.time <= '2016-12-30')]"
   ]
  },
  {
   "cell_type": "code",
   "execution_count": 3,
   "metadata": {},
   "outputs": [],
   "source": [
    "# 1. Basic Processing\n",
    "\n",
    "# drop 1st column due to reading \n",
    "news_df.drop(news_df.columns[0], axis=1, inplace=True)\n",
    "\n",
    "# convert time to appropriate format\n",
    "news_df['time'] = pd.to_datetime(news_df['time'])\n",
    "\n",
    "# create date column - will be used for merging\n",
    "news_df['date'] = pd.to_datetime(news_df['time']).dt.date\n",
    "\n",
    "# convert bool to int\n",
    "news_df['marketCommentary'] = news_df['marketCommentary'].astype(int)\n",
    "\n",
    "# drop useless columns\n",
    "news_df.drop(['time','sourceTimestamp','firstCreated', 'sourceId','provider','subjects', 'audiences','headlineTag'], axis=1, inplace=True)"
   ]
  },
  {
   "cell_type": "code",
   "execution_count": 5,
   "metadata": {},
   "outputs": [],
   "source": [
    "# 2. Organize Features\n",
    "# assetcode_encoded = []\n",
    "# idx = ['sourceId']\n",
    "time_cols = ['date']\n",
    "asset_id = ['assetCodes','assetName']\n",
    "text_cols = ['headline']\n",
    "numeric_cols = ['urgency', 'takeSequence', 'marketCommentary', 'companyCount', 'relevance',\n",
    "                'bodySize', 'sentenceCount', 'wordCount','firstMentionSentence',\n",
    "                'sentimentClass', 'sentimentNegative', 'sentimentNeutral', 'sentimentPositive', 'sentimentWordCount',\n",
    "                'noveltyCount12H', 'noveltyCount24H', 'noveltyCount3D', 'noveltyCount5D', 'noveltyCount7D', \n",
    "                'volumeCounts12H', 'volumeCounts24H', 'volumeCounts3D', 'volumeCounts5D', 'volumeCounts7D',]\n",
    "feature_cols =  time_cols + asset_id + text_cols + numeric_cols"
   ]
  },
  {
   "cell_type": "code",
   "execution_count": 6,
   "metadata": {},
   "outputs": [],
   "source": [
    "# 3. Re-organize working df\n",
    "news_df = news_df[feature_cols]"
   ]
  },
  {
   "cell_type": "code",
   "execution_count": 7,
   "metadata": {},
   "outputs": [
    {
     "data": {
      "text/plain": [
       "Index(['date', 'assetCodes', 'assetName', 'headline', 'urgency',\n",
       "       'takeSequence', 'marketCommentary', 'companyCount', 'relevance',\n",
       "       'bodySize', 'sentenceCount', 'wordCount', 'firstMentionSentence',\n",
       "       'sentimentClass', 'sentimentNegative', 'sentimentNeutral',\n",
       "       'sentimentPositive', 'sentimentWordCount', 'noveltyCount12H',\n",
       "       'noveltyCount24H', 'noveltyCount3D', 'noveltyCount5D', 'noveltyCount7D',\n",
       "       'volumeCounts12H', 'volumeCounts24H', 'volumeCounts3D',\n",
       "       'volumeCounts5D', 'volumeCounts7D'],\n",
       "      dtype='object')"
      ]
     },
     "execution_count": 7,
     "metadata": {},
     "output_type": "execute_result"
    }
   ],
   "source": [
    "news_df.columns"
   ]
  },
  {
   "cell_type": "code",
   "execution_count": 8,
   "metadata": {},
   "outputs": [],
   "source": [
    "# 4. \n",
    "# since each headline is associate with several assetCode\n",
    "# Fix asset codes (str -> list)\n",
    "news_df['assetCodes'] = news_df['assetCodes'].str.findall(f\"'([\\w\\.]+)'\")"
   ]
  },
  {
   "cell_type": "code",
   "execution_count": 9,
   "metadata": {},
   "outputs": [],
   "source": [
    "# get TICKER out of assetCodes\n",
    "new_list = []\n",
    "for i in news_df['assetCodes'].tolist():\n",
    "    temp = set()\n",
    "    for j in i:\n",
    "        temp.add(j.split(\".\")[0])\n",
    "    new_list.append(list(temp))"
   ]
  },
  {
   "cell_type": "code",
   "execution_count": 10,
   "metadata": {},
   "outputs": [],
   "source": [
    "news_df['assetCodes'] = new_list"
   ]
  },
  {
   "cell_type": "code",
   "execution_count": 11,
   "metadata": {},
   "outputs": [],
   "source": [
    "# Expand assetCodes\n",
    "from itertools import chain\n",
    "\n",
    "assetCodes_expanded = list(chain(*news_df['assetCodes']))\n",
    "assetCodes_index = news_df.index.repeat(news_df['assetCodes'].apply(len))"
   ]
  },
  {
   "cell_type": "code",
   "execution_count": 12,
   "metadata": {},
   "outputs": [
    {
     "data": {
      "text/plain": [
       "(5074027, 5074027)"
      ]
     },
     "execution_count": 12,
     "metadata": {},
     "output_type": "execute_result"
    }
   ],
   "source": [
    "len(assetCodes_index),len(assetCodes_expanded)"
   ]
  },
  {
   "cell_type": "code",
   "execution_count": 13,
   "metadata": {},
   "outputs": [],
   "source": [
    "# merge with main table\n",
    "df_assetCodes = pd.DataFrame({'level_0': assetCodes_index, 'assetCode': assetCodes_expanded})\n"
   ]
  },
  {
   "cell_type": "code",
   "execution_count": 15,
   "metadata": {},
   "outputs": [],
   "source": [
    "# Create expandaded news (will repeat every assetCodes' row)\n",
    "news_df_expanded = pd.merge(df_assetCodes, news_df, left_on='level_0', right_index=True)\n"
   ]
  },
  {
   "cell_type": "code",
   "execution_count": 16,
   "metadata": {},
   "outputs": [],
   "source": [
    "# drop useless columns\n",
    "news_df_expanded.drop(['level_0','assetCodes','assetName'], axis=1, inplace=True)"
   ]
  },
  {
   "cell_type": "code",
   "execution_count": 17,
   "metadata": {},
   "outputs": [
    {
     "name": "stdout",
     "output_type": "stream",
     "text": [
      "<class 'pandas.core.frame.DataFrame'>\n",
      "Int64Index: 5074027 entries, 0 to 5074026\n",
      "Data columns (total 27 columns):\n",
      " #   Column                Dtype  \n",
      "---  ------                -----  \n",
      " 0   assetCode             object \n",
      " 1   date                  object \n",
      " 2   headline              object \n",
      " 3   urgency               int64  \n",
      " 4   takeSequence          int64  \n",
      " 5   marketCommentary      int64  \n",
      " 6   companyCount          int64  \n",
      " 7   relevance             float64\n",
      " 8   bodySize              int64  \n",
      " 9   sentenceCount         int64  \n",
      " 10  wordCount             int64  \n",
      " 11  firstMentionSentence  int64  \n",
      " 12  sentimentClass        int64  \n",
      " 13  sentimentNegative     float64\n",
      " 14  sentimentNeutral      float64\n",
      " 15  sentimentPositive     float64\n",
      " 16  sentimentWordCount    int64  \n",
      " 17  noveltyCount12H       int64  \n",
      " 18  noveltyCount24H       int64  \n",
      " 19  noveltyCount3D        int64  \n",
      " 20  noveltyCount5D        int64  \n",
      " 21  noveltyCount7D        int64  \n",
      " 22  volumeCounts12H       int64  \n",
      " 23  volumeCounts24H       int64  \n",
      " 24  volumeCounts3D        int64  \n",
      " 25  volumeCounts5D        int64  \n",
      " 26  volumeCounts7D        int64  \n",
      "dtypes: float64(4), int64(20), object(3)\n",
      "memory usage: 1.1+ GB\n"
     ]
    }
   ],
   "source": [
    "news_df_expanded.info()"
   ]
  },
  {
   "cell_type": "code",
   "execution_count": 19,
   "metadata": {},
   "outputs": [],
   "source": [
    "# get the assetCode list for data retrieval on WRDS\n",
    "with open('assetCode.txt', 'w') as f:\n",
    "    for item in set(news_df_expanded.assetCode.tolist()):\n",
    "        f.write(\"%s\\n\" % item)"
   ]
  },
  {
   "cell_type": "markdown",
   "metadata": {},
   "source": [
    "#### 2. Stock Price Data downloaded from WRDS (Compustat - Capital IQ) , using the ticker derived from the cleaned News Dataset. The features of interest include:\n",
    "    - Date\n",
    "    - Asset Code (Ticker)\n",
    "    - Volume\n",
    "    - Open Price\n",
    "    - Close Price\n",
    "\n",
    "#### From these variables, I will calculate the following stock returns for stock return prediction:\n",
    "- returnsClosePrev1 - 1-day stock return calculated by closing price\n",
    "- returnsOpenPrev1 - 1-day stock return calculated by open price\n",
    "- returnsClosePrev10 - 10-day stock return calculated by closing price\n",
    "- returnsOpenPrev10 - 10-day stock return calculated by open price\n",
    "- returnsOpenNext10 - 10-day forward stock return calculated by open price - this will be the target variable for the regression model"
   ]
  },
  {
   "cell_type": "code",
   "execution_count": 49,
   "metadata": {},
   "outputs": [
    {
     "name": "stderr",
     "output_type": "stream",
     "text": [
      "/Library/Frameworks/Python.framework/Versions/3.7/lib/python3.7/site-packages/IPython/core/interactiveshell.py:3063: DtypeWarning: Columns (1,6) have mixed types.Specify dtype option on import or set low_memory=False.\n",
      "  interactivity=interactivity, compiler=compiler, result=result)\n"
     ]
    }
   ],
   "source": [
    "import pandas as pd\n",
    "price_df = pd.read_csv('stock.csv')"
   ]
  },
  {
   "cell_type": "code",
   "execution_count": 51,
   "metadata": {},
   "outputs": [],
   "source": [
    "# drop useless columes\n",
    "price_df.drop(['gvkey','iid','conm','divdpaydateind', 'divdpaydate','divsppaydate'], axis=1, inplace=True)"
   ]
  },
  {
   "cell_type": "code",
   "execution_count": 53,
   "metadata": {},
   "outputs": [],
   "source": [
    "# rename the features\n",
    "price_df.columns = ['date', 'assetCode','dividend','dividend_sp', 'volume', 'close', 'open']"
   ]
  },
  {
   "cell_type": "code",
   "execution_count": 54,
   "metadata": {},
   "outputs": [
    {
     "data": {
      "text/html": [
       "<div>\n",
       "<style scoped>\n",
       "    .dataframe tbody tr th:only-of-type {\n",
       "        vertical-align: middle;\n",
       "    }\n",
       "\n",
       "    .dataframe tbody tr th {\n",
       "        vertical-align: top;\n",
       "    }\n",
       "\n",
       "    .dataframe thead th {\n",
       "        text-align: right;\n",
       "    }\n",
       "</style>\n",
       "<table border=\"1\" class=\"dataframe\">\n",
       "  <thead>\n",
       "    <tr style=\"text-align: right;\">\n",
       "      <th></th>\n",
       "      <th>date</th>\n",
       "      <th>assetCode</th>\n",
       "      <th>dividend</th>\n",
       "      <th>dividend_sp</th>\n",
       "      <th>volume</th>\n",
       "      <th>close</th>\n",
       "      <th>open</th>\n",
       "    </tr>\n",
       "  </thead>\n",
       "  <tbody>\n",
       "    <tr>\n",
       "      <th>0</th>\n",
       "      <td>20130102</td>\n",
       "      <td>AIR</td>\n",
       "      <td>NaN</td>\n",
       "      <td>NaN</td>\n",
       "      <td>427126.0</td>\n",
       "      <td>19.37</td>\n",
       "      <td>19.12</td>\n",
       "    </tr>\n",
       "    <tr>\n",
       "      <th>1</th>\n",
       "      <td>20130103</td>\n",
       "      <td>AIR</td>\n",
       "      <td>NaN</td>\n",
       "      <td>NaN</td>\n",
       "      <td>419610.0</td>\n",
       "      <td>19.82</td>\n",
       "      <td>19.36</td>\n",
       "    </tr>\n",
       "    <tr>\n",
       "      <th>2</th>\n",
       "      <td>20130104</td>\n",
       "      <td>AIR</td>\n",
       "      <td>NaN</td>\n",
       "      <td>NaN</td>\n",
       "      <td>386724.0</td>\n",
       "      <td>20.11</td>\n",
       "      <td>19.92</td>\n",
       "    </tr>\n",
       "    <tr>\n",
       "      <th>3</th>\n",
       "      <td>20130107</td>\n",
       "      <td>AIR</td>\n",
       "      <td>NaN</td>\n",
       "      <td>NaN</td>\n",
       "      <td>303724.0</td>\n",
       "      <td>19.75</td>\n",
       "      <td>20.03</td>\n",
       "    </tr>\n",
       "    <tr>\n",
       "      <th>4</th>\n",
       "      <td>20130108</td>\n",
       "      <td>AIR</td>\n",
       "      <td>NaN</td>\n",
       "      <td>NaN</td>\n",
       "      <td>311604.0</td>\n",
       "      <td>19.61</td>\n",
       "      <td>19.70</td>\n",
       "    </tr>\n",
       "  </tbody>\n",
       "</table>\n",
       "</div>"
      ],
      "text/plain": [
       "       date assetCode  dividend  dividend_sp    volume  close   open\n",
       "0  20130102       AIR       NaN          NaN  427126.0  19.37  19.12\n",
       "1  20130103       AIR       NaN          NaN  419610.0  19.82  19.36\n",
       "2  20130104       AIR       NaN          NaN  386724.0  20.11  19.92\n",
       "3  20130107       AIR       NaN          NaN  303724.0  19.75  20.03\n",
       "4  20130108       AIR       NaN          NaN  311604.0  19.61  19.70"
      ]
     },
     "execution_count": 54,
     "metadata": {},
     "output_type": "execute_result"
    }
   ],
   "source": [
    "price_df.head()"
   ]
  },
  {
   "cell_type": "code",
   "execution_count": 55,
   "metadata": {},
   "outputs": [
    {
     "data": {
      "text/plain": [
       "(5983319, 7)"
      ]
     },
     "execution_count": 55,
     "metadata": {},
     "output_type": "execute_result"
    }
   ],
   "source": [
    "price_df.shape"
   ]
  },
  {
   "cell_type": "code",
   "execution_count": 57,
   "metadata": {},
   "outputs": [
    {
     "data": {
      "text/plain": [
       "7412"
      ]
     },
     "execution_count": 57,
     "metadata": {},
     "output_type": "execute_result"
    }
   ],
   "source": [
    "# How many assets in the original dataset?\n",
    "len(price_df.assetCode.unique())"
   ]
  },
  {
   "cell_type": "code",
   "execution_count": 112,
   "metadata": {},
   "outputs": [],
   "source": [
    "# filter the assets that have at least 1000 data points\n",
    "price_df = price_df[price_df['assetCode'].map(price_df['assetCode'].value_counts()) > 1000]"
   ]
  },
  {
   "cell_type": "code",
   "execution_count": 113,
   "metadata": {},
   "outputs": [
    {
     "data": {
      "text/plain": [
       "4530"
      ]
     },
     "execution_count": 113,
     "metadata": {},
     "output_type": "execute_result"
    }
   ],
   "source": [
    "# How many assets in the reduced dataset?\n",
    "len(price_df.assetCode.unique())"
   ]
  },
  {
   "cell_type": "code",
   "execution_count": 114,
   "metadata": {},
   "outputs": [],
   "source": [
    "# fillna\n",
    "price_df.dividend = price_df.dividend.fillna(0)\n",
    "price_df.dividend_sp = price_df.dividend_sp.fillna(0)\n"
   ]
  },
  {
   "cell_type": "code",
   "execution_count": 115,
   "metadata": {},
   "outputs": [],
   "source": [
    "# calculate closing price adjusted for dividend\n",
    "price_df['adj_close'] = price_df['close'] - price_df['dividend'] - price_df['dividend_sp']"
   ]
  },
  {
   "cell_type": "code",
   "execution_count": 125,
   "metadata": {},
   "outputs": [],
   "source": [
    "# calculate returnsOpenPrev1\n",
    "price_df['returnsOpenPrev1'] = price_df.groupby('assetCode').open.pct_change(periods = 1)\n",
    "\n",
    "# calculate returnsClosePrev1\n",
    "price_df['returnsClosePrev1'] = price_df.groupby('assetCode').close.pct_change(periods = 1)\n",
    "\n",
    "# calculate returnsOpenPrev10\n",
    "price_df['returnsOpenPrev10'] = price_df.groupby('assetCode').open.pct_change(periods = 10)\n",
    "\n",
    "# calculate returnsClosePrev10\n",
    "price_df['returnsClosePrev10'] = price_df.groupby('assetCode').close.pct_change(periods = 10)\n",
    "\n"
   ]
  },
  {
   "cell_type": "code",
   "execution_count": 126,
   "metadata": {},
   "outputs": [],
   "source": [
    "# calculate returnsOpenNext10\n",
    "def tenday(open): \n",
    "    tenday = ((open.shift(-10) - open) / open) * 100\n",
    "    return tenday\n",
    "price_df['returnsOpenNext10'] = price_df.groupby('assetCode').open.apply(tenday)"
   ]
  },
  {
   "cell_type": "code",
   "execution_count": 128,
   "metadata": {},
   "outputs": [],
   "source": [
    "# drop null values\n",
    "price_df.dropna(inplace=True)"
   ]
  },
  {
   "cell_type": "code",
   "execution_count": 134,
   "metadata": {},
   "outputs": [
    {
     "data": {
      "text/html": [
       "<div>\n",
       "<style scoped>\n",
       "    .dataframe tbody tr th:only-of-type {\n",
       "        vertical-align: middle;\n",
       "    }\n",
       "\n",
       "    .dataframe tbody tr th {\n",
       "        vertical-align: top;\n",
       "    }\n",
       "\n",
       "    .dataframe thead th {\n",
       "        text-align: right;\n",
       "    }\n",
       "</style>\n",
       "<table border=\"1\" class=\"dataframe\">\n",
       "  <thead>\n",
       "    <tr style=\"text-align: right;\">\n",
       "      <th></th>\n",
       "      <th>date</th>\n",
       "      <th>assetCode</th>\n",
       "      <th>dividend</th>\n",
       "      <th>dividend_sp</th>\n",
       "      <th>volume</th>\n",
       "      <th>close</th>\n",
       "      <th>open</th>\n",
       "      <th>adj_close</th>\n",
       "      <th>returnsOpenPrev1</th>\n",
       "      <th>returnsClosePrev1</th>\n",
       "      <th>returnsOpenPrev10</th>\n",
       "      <th>returnsClosePrev10</th>\n",
       "      <th>returnsOpenNext10</th>\n",
       "    </tr>\n",
       "  </thead>\n",
       "  <tbody>\n",
       "    <tr>\n",
       "      <th>10</th>\n",
       "      <td>20130116</td>\n",
       "      <td>AIR</td>\n",
       "      <td>0.0</td>\n",
       "      <td>0.0</td>\n",
       "      <td>243247.0</td>\n",
       "      <td>19.14</td>\n",
       "      <td>19.20</td>\n",
       "      <td>19.14</td>\n",
       "      <td>0.028939</td>\n",
       "      <td>-0.008804</td>\n",
       "      <td>0.004184</td>\n",
       "      <td>-0.011874</td>\n",
       "      <td>-0.052083</td>\n",
       "    </tr>\n",
       "    <tr>\n",
       "      <th>11</th>\n",
       "      <td>20130117</td>\n",
       "      <td>AIR</td>\n",
       "      <td>0.0</td>\n",
       "      <td>0.0</td>\n",
       "      <td>444711.0</td>\n",
       "      <td>19.47</td>\n",
       "      <td>19.29</td>\n",
       "      <td>19.47</td>\n",
       "      <td>0.004687</td>\n",
       "      <td>0.017241</td>\n",
       "      <td>-0.003616</td>\n",
       "      <td>-0.017659</td>\n",
       "      <td>-1.918092</td>\n",
       "    </tr>\n",
       "    <tr>\n",
       "      <th>12</th>\n",
       "      <td>20130118</td>\n",
       "      <td>AIR</td>\n",
       "      <td>0.0</td>\n",
       "      <td>0.0</td>\n",
       "      <td>193461.0</td>\n",
       "      <td>19.61</td>\n",
       "      <td>19.42</td>\n",
       "      <td>19.61</td>\n",
       "      <td>0.006739</td>\n",
       "      <td>0.007191</td>\n",
       "      <td>-0.025100</td>\n",
       "      <td>-0.024863</td>\n",
       "      <td>-2.574665</td>\n",
       "    </tr>\n",
       "    <tr>\n",
       "      <th>13</th>\n",
       "      <td>20130122</td>\n",
       "      <td>AIR</td>\n",
       "      <td>0.0</td>\n",
       "      <td>0.0</td>\n",
       "      <td>253477.0</td>\n",
       "      <td>19.84</td>\n",
       "      <td>19.55</td>\n",
       "      <td>19.84</td>\n",
       "      <td>0.006694</td>\n",
       "      <td>0.011729</td>\n",
       "      <td>-0.023964</td>\n",
       "      <td>0.004557</td>\n",
       "      <td>-4.092072</td>\n",
       "    </tr>\n",
       "    <tr>\n",
       "      <th>14</th>\n",
       "      <td>20130123</td>\n",
       "      <td>AIR</td>\n",
       "      <td>0.0</td>\n",
       "      <td>0.0</td>\n",
       "      <td>378475.0</td>\n",
       "      <td>19.61</td>\n",
       "      <td>19.64</td>\n",
       "      <td>19.61</td>\n",
       "      <td>0.004604</td>\n",
       "      <td>-0.011593</td>\n",
       "      <td>-0.003046</td>\n",
       "      <td>0.000000</td>\n",
       "      <td>-6.008147</td>\n",
       "    </tr>\n",
       "  </tbody>\n",
       "</table>\n",
       "</div>"
      ],
      "text/plain": [
       "        date assetCode  dividend  dividend_sp    volume  close   open  \\\n",
       "10  20130116       AIR       0.0          0.0  243247.0  19.14  19.20   \n",
       "11  20130117       AIR       0.0          0.0  444711.0  19.47  19.29   \n",
       "12  20130118       AIR       0.0          0.0  193461.0  19.61  19.42   \n",
       "13  20130122       AIR       0.0          0.0  253477.0  19.84  19.55   \n",
       "14  20130123       AIR       0.0          0.0  378475.0  19.61  19.64   \n",
       "\n",
       "    adj_close  returnsOpenPrev1  returnsClosePrev1  returnsOpenPrev10  \\\n",
       "10      19.14          0.028939          -0.008804           0.004184   \n",
       "11      19.47          0.004687           0.017241          -0.003616   \n",
       "12      19.61          0.006739           0.007191          -0.025100   \n",
       "13      19.84          0.006694           0.011729          -0.023964   \n",
       "14      19.61          0.004604          -0.011593          -0.003046   \n",
       "\n",
       "    returnsClosePrev10  returnsOpenNext10  \n",
       "10           -0.011874          -0.052083  \n",
       "11           -0.017659          -1.918092  \n",
       "12           -0.024863          -2.574665  \n",
       "13            0.004557          -4.092072  \n",
       "14            0.000000          -6.008147  "
      ]
     },
     "execution_count": 134,
     "metadata": {},
     "output_type": "execute_result"
    }
   ],
   "source": [
    "price_df.head()"
   ]
  },
  {
   "cell_type": "code",
   "execution_count": 138,
   "metadata": {},
   "outputs": [],
   "source": [
    "# adjust date type\n",
    "price_df['date'] = price_df['date'].astype(str)"
   ]
  },
  {
   "cell_type": "code",
   "execution_count": 140,
   "metadata": {},
   "outputs": [],
   "source": [
    "price_df['date'] = pd.to_datetime(price_df['date'])"
   ]
  },
  {
   "cell_type": "code",
   "execution_count": 146,
   "metadata": {},
   "outputs": [
    {
     "data": {
      "text/html": [
       "<div>\n",
       "<style scoped>\n",
       "    .dataframe tbody tr th:only-of-type {\n",
       "        vertical-align: middle;\n",
       "    }\n",
       "\n",
       "    .dataframe tbody tr th {\n",
       "        vertical-align: top;\n",
       "    }\n",
       "\n",
       "    .dataframe thead th {\n",
       "        text-align: right;\n",
       "    }\n",
       "</style>\n",
       "<table border=\"1\" class=\"dataframe\">\n",
       "  <thead>\n",
       "    <tr style=\"text-align: right;\">\n",
       "      <th></th>\n",
       "      <th>date</th>\n",
       "      <th>assetCode</th>\n",
       "      <th>dividend</th>\n",
       "      <th>dividend_sp</th>\n",
       "      <th>volume</th>\n",
       "      <th>close</th>\n",
       "      <th>open</th>\n",
       "      <th>adj_close</th>\n",
       "      <th>returnsOpenPrev1</th>\n",
       "      <th>returnsClosePrev1</th>\n",
       "      <th>returnsOpenPrev10</th>\n",
       "      <th>returnsClosePrev10</th>\n",
       "      <th>returnsOpenNext10</th>\n",
       "    </tr>\n",
       "  </thead>\n",
       "  <tbody>\n",
       "    <tr>\n",
       "      <th>10</th>\n",
       "      <td>2013-01-16</td>\n",
       "      <td>AIR</td>\n",
       "      <td>0.0</td>\n",
       "      <td>0.0</td>\n",
       "      <td>243247.0</td>\n",
       "      <td>19.14</td>\n",
       "      <td>19.20</td>\n",
       "      <td>19.14</td>\n",
       "      <td>0.028939</td>\n",
       "      <td>-0.008804</td>\n",
       "      <td>0.004184</td>\n",
       "      <td>-0.011874</td>\n",
       "      <td>-0.052083</td>\n",
       "    </tr>\n",
       "    <tr>\n",
       "      <th>11</th>\n",
       "      <td>2013-01-17</td>\n",
       "      <td>AIR</td>\n",
       "      <td>0.0</td>\n",
       "      <td>0.0</td>\n",
       "      <td>444711.0</td>\n",
       "      <td>19.47</td>\n",
       "      <td>19.29</td>\n",
       "      <td>19.47</td>\n",
       "      <td>0.004687</td>\n",
       "      <td>0.017241</td>\n",
       "      <td>-0.003616</td>\n",
       "      <td>-0.017659</td>\n",
       "      <td>-1.918092</td>\n",
       "    </tr>\n",
       "    <tr>\n",
       "      <th>12</th>\n",
       "      <td>2013-01-18</td>\n",
       "      <td>AIR</td>\n",
       "      <td>0.0</td>\n",
       "      <td>0.0</td>\n",
       "      <td>193461.0</td>\n",
       "      <td>19.61</td>\n",
       "      <td>19.42</td>\n",
       "      <td>19.61</td>\n",
       "      <td>0.006739</td>\n",
       "      <td>0.007191</td>\n",
       "      <td>-0.025100</td>\n",
       "      <td>-0.024863</td>\n",
       "      <td>-2.574665</td>\n",
       "    </tr>\n",
       "    <tr>\n",
       "      <th>13</th>\n",
       "      <td>2013-01-22</td>\n",
       "      <td>AIR</td>\n",
       "      <td>0.0</td>\n",
       "      <td>0.0</td>\n",
       "      <td>253477.0</td>\n",
       "      <td>19.84</td>\n",
       "      <td>19.55</td>\n",
       "      <td>19.84</td>\n",
       "      <td>0.006694</td>\n",
       "      <td>0.011729</td>\n",
       "      <td>-0.023964</td>\n",
       "      <td>0.004557</td>\n",
       "      <td>-4.092072</td>\n",
       "    </tr>\n",
       "    <tr>\n",
       "      <th>14</th>\n",
       "      <td>2013-01-23</td>\n",
       "      <td>AIR</td>\n",
       "      <td>0.0</td>\n",
       "      <td>0.0</td>\n",
       "      <td>378475.0</td>\n",
       "      <td>19.61</td>\n",
       "      <td>19.64</td>\n",
       "      <td>19.61</td>\n",
       "      <td>0.004604</td>\n",
       "      <td>-0.011593</td>\n",
       "      <td>-0.003046</td>\n",
       "      <td>0.000000</td>\n",
       "      <td>-6.008147</td>\n",
       "    </tr>\n",
       "  </tbody>\n",
       "</table>\n",
       "</div>"
      ],
      "text/plain": [
       "         date assetCode  dividend  dividend_sp    volume  close   open  \\\n",
       "10 2013-01-16       AIR       0.0          0.0  243247.0  19.14  19.20   \n",
       "11 2013-01-17       AIR       0.0          0.0  444711.0  19.47  19.29   \n",
       "12 2013-01-18       AIR       0.0          0.0  193461.0  19.61  19.42   \n",
       "13 2013-01-22       AIR       0.0          0.0  253477.0  19.84  19.55   \n",
       "14 2013-01-23       AIR       0.0          0.0  378475.0  19.61  19.64   \n",
       "\n",
       "    adj_close  returnsOpenPrev1  returnsClosePrev1  returnsOpenPrev10  \\\n",
       "10      19.14          0.028939          -0.008804           0.004184   \n",
       "11      19.47          0.004687           0.017241          -0.003616   \n",
       "12      19.61          0.006739           0.007191          -0.025100   \n",
       "13      19.84          0.006694           0.011729          -0.023964   \n",
       "14      19.61          0.004604          -0.011593          -0.003046   \n",
       "\n",
       "    returnsClosePrev10  returnsOpenNext10  \n",
       "10           -0.011874          -0.052083  \n",
       "11           -0.017659          -1.918092  \n",
       "12           -0.024863          -2.574665  \n",
       "13            0.004557          -4.092072  \n",
       "14            0.000000          -6.008147  "
      ]
     },
     "execution_count": 146,
     "metadata": {},
     "output_type": "execute_result"
    }
   ],
   "source": [
    "price_df.info()"
   ]
  },
  {
   "cell_type": "code",
   "execution_count": 148,
   "metadata": {},
   "outputs": [],
   "source": [
    "news_df_expanded['date'] = pd.to_datetime(news_df_expanded['date'])"
   ]
  },
  {
   "cell_type": "code",
   "execution_count": 149,
   "metadata": {},
   "outputs": [
    {
     "name": "stdout",
     "output_type": "stream",
     "text": [
      "<class 'pandas.core.frame.DataFrame'>\n",
      "Int64Index: 5074027 entries, 0 to 5074026\n",
      "Data columns (total 27 columns):\n",
      " #   Column                Dtype         \n",
      "---  ------                -----         \n",
      " 0   assetCode             object        \n",
      " 1   date                  datetime64[ns]\n",
      " 2   headline              object        \n",
      " 3   urgency               int64         \n",
      " 4   takeSequence          int64         \n",
      " 5   marketCommentary      int64         \n",
      " 6   companyCount          int64         \n",
      " 7   relevance             float64       \n",
      " 8   bodySize              int64         \n",
      " 9   sentenceCount         int64         \n",
      " 10  wordCount             int64         \n",
      " 11  firstMentionSentence  int64         \n",
      " 12  sentimentClass        int64         \n",
      " 13  sentimentNegative     float64       \n",
      " 14  sentimentNeutral      float64       \n",
      " 15  sentimentPositive     float64       \n",
      " 16  sentimentWordCount    int64         \n",
      " 17  noveltyCount12H       int64         \n",
      " 18  noveltyCount24H       int64         \n",
      " 19  noveltyCount3D        int64         \n",
      " 20  noveltyCount5D        int64         \n",
      " 21  noveltyCount7D        int64         \n",
      " 22  volumeCounts12H       int64         \n",
      " 23  volumeCounts24H       int64         \n",
      " 24  volumeCounts3D        int64         \n",
      " 25  volumeCounts5D        int64         \n",
      " 26  volumeCounts7D        int64         \n",
      "dtypes: datetime64[ns](1), float64(4), int64(20), object(2)\n",
      "memory usage: 1.1+ GB\n"
     ]
    }
   ],
   "source": [
    "news_df_expanded.()"
   ]
  },
  {
   "cell_type": "markdown",
   "metadata": {},
   "source": [
    "### 3. Merge the two datasets on `date` & `assetCode`"
   ]
  },
  {
   "cell_type": "code",
   "execution_count": 374,
   "metadata": {},
   "outputs": [],
   "source": [
    "# inner join the two datasets to make sure that the news data used is related to a particular stock on a particular day. \n",
    "df = pd.merge(price_df, news_df_expanded, how='inner',left_on=['date','assetCode'], right_on=['date','assetCode'])"
   ]
  },
  {
   "cell_type": "code",
   "execution_count": 375,
   "metadata": {},
   "outputs": [
    {
     "name": "stdout",
     "output_type": "stream",
     "text": [
      "['GM', 'FBR', 'VBFC', 'VBFC', 'HUM', 'HPTO', 'POL', 'SGF', 'ICB', 'JNS', 'AMS', 'CTXS', 'BCV', 'KBAL', 'TGH', 'SPAR', 'AAN', 'IBKC', 'PMO', 'TDS', 'ELLI', 'DCTH', 'DISCA', 'MRLN', 'CACC', 'NMFC', 'CPB', 'WEYS', 'BB', 'IMMR', 'ECL', 'KOSS', 'ARRY', 'ALQA', 'SUMR', 'UN', 'JBL', 'GM', 'BCO', 'MDT', 'ED', 'CTX', 'OSTK', 'JOUT', 'UTL', 'GPI', 'TSU', 'XLK', 'MMT', 'CUZ', 'ANGO', 'FFA', 'AMKR', 'BGG', 'CASH', 'RNVA', 'RPT', 'TSN', 'NXP', 'MTL', 'SBH', 'IDXX', 'WBA', 'TM', 'VICL', 'DYN', 'CANF', 'PFMT', 'HSNI', 'KST', 'AMRB', 'CRI', 'BHI', 'RYN', 'TSEM', 'JTA', 'MKL', 'GPRE', 'KALU', 'BWLD', 'UGP', 'LPL', 'PSTI', 'RCON', 'AEH', 'DENN', 'STZ', 'DHIL', 'UCBI', 'CTHR', 'GRC', 'NDAQ', 'THS', 'BBW', 'CERS', 'PRSS', 'SSYS', 'EXTR', 'FRBA', 'NAVG']\n"
     ]
    }
   ],
   "source": [
    "# Since the current df is too big, I down sampled a random choice of 100 assets from the df\n",
    "import random\n",
    "sampling = random.choices(df.assetCode.unique(), k=100)\n",
    "print(sampling)"
   ]
  },
  {
   "cell_type": "code",
   "execution_count": 376,
   "metadata": {},
   "outputs": [],
   "source": [
    "df = df[df['assetCode'].isin(sampling)]"
   ]
  },
  {
   "cell_type": "code",
   "execution_count": 377,
   "metadata": {},
   "outputs": [
    {
     "data": {
      "text/plain": [
       "(94931, 38)"
      ]
     },
     "execution_count": 377,
     "metadata": {},
     "output_type": "execute_result"
    }
   ],
   "source": [
    "df.shape"
   ]
  },
  {
   "cell_type": "code",
   "execution_count": 378,
   "metadata": {},
   "outputs": [
    {
     "name": "stdout",
     "output_type": "stream",
     "text": [
      "Total columns to be used : 34\n"
     ]
    }
   ],
   "source": [
    "# define columns\n",
    "y_col = ['returnsOpenNext10']\n",
    "cat_cols = ['assetCode']\n",
    "price_num_cols = ['volume',\n",
    "             'close',\n",
    "             'open',\n",
    "             'adj_close',\n",
    "             'returnsOpenPrev1',\n",
    "             'returnsClosePrev1',\n",
    "             'returnsOpenPrev10',\n",
    "             'returnsClosePrev10']\n",
    "news_num_cols = ['urgency',\n",
    "                 'takeSequence',\n",
    "                 'marketCommentary',\n",
    "                 'sentimentClass',\n",
    "                 'companyCount',\n",
    "                 'relevance',\n",
    "                 'bodySize',\n",
    "                 'sentenceCount',\n",
    "                 'wordCount',\n",
    "                 'firstMentionSentence',\n",
    "                 'sentimentNegative',\n",
    "                 'sentimentNeutral',\n",
    "                 'sentimentPositive',\n",
    "                 'sentimentWordCount',\n",
    "                 'noveltyCount12H',\n",
    "                 'noveltyCount24H',\n",
    "                 'noveltyCount3D',\n",
    "                 'noveltyCount5D',\n",
    "                 'noveltyCount7D',\n",
    "                 'volumeCounts12H',\n",
    "                 'volumeCounts24H',\n",
    "                 'volumeCounts3D',\n",
    "                 'volumeCounts5D',\n",
    "                 'volumeCounts7D'\n",
    "                ]\n",
    "num_cols = price_num_cols+news_num_cols\n",
    "time_cols = ['date']\n",
    "print('Total columns to be used :',len(y_col)+len(cat_cols)+len(price_num_cols)+len(news_num_cols))"
   ]
  },
  {
   "cell_type": "markdown",
   "metadata": {},
   "source": [
    "### 4. Process Categorical Feature: `assetCode`"
   ]
  },
  {
   "cell_type": "code",
   "execution_count": 379,
   "metadata": {},
   "outputs": [
    {
     "name": "stderr",
     "output_type": "stream",
     "text": [
      "/Library/Frameworks/Python.framework/Versions/3.7/lib/python3.7/site-packages/sklearn/preprocessing/_label.py:251: DataConversionWarning: A column-vector y was passed when a 1d array was expected. Please change the shape of y to (n_samples, ), for example using ravel().\n",
      "  y = column_or_1d(y, warn=True)\n"
     ]
    }
   ],
   "source": [
    "# convert 'assetCode' to numeric representations\n",
    "cat_cols = ['assetCode']\n",
    "\n",
    "from sklearn.preprocessing import LabelEncoder\n",
    "# creating instance of labelencoder\n",
    "labelencoder = LabelEncoder()\n",
    "# Assigning numerical values \n",
    "df[cat_cols] = labelencoder.fit_transform(df[cat_cols])\n"
   ]
  },
  {
   "cell_type": "markdown",
   "metadata": {},
   "source": [
    "### 4. Split training and testing data"
   ]
  },
  {
   "cell_type": "code",
   "execution_count": 385,
   "metadata": {},
   "outputs": [
    {
     "name": "stdout",
     "output_type": "stream",
     "text": [
      "training data: (71198, 38)\n",
      "test data: (23733, 38)\n"
     ]
    }
   ],
   "source": [
    "## 4.Train Test split\n",
    "from sklearn.model_selection import train_test_split\n",
    "\n",
    "train_indices, test_indices = train_test_split(df.index.values,test_size=0.25, random_state=23)\n",
    "\n",
    "train_df = df.loc[train_indices,:]\n",
    "test_df = df.loc[test_indices,:]\n",
    "print('training data:', train_df.shape)\n",
    "print('test data:', test_df.shape)"
   ]
  },
  {
   "cell_type": "markdown",
   "metadata": {},
   "source": [
    "### 5. Process Numerical Features"
   ]
  },
  {
   "cell_type": "code",
   "execution_count": 386,
   "metadata": {},
   "outputs": [
    {
     "name": "stdout",
     "output_type": "stream",
     "text": [
      "scaling price numerical columns\n"
     ]
    }
   ],
   "source": [
    "from sklearn.preprocessing import StandardScaler\n",
    "\n",
    "\n",
    "train_df[num_cols] = train_df[num_cols].fillna(0)\n",
    "print('scaling price numerical columns')\n",
    "\n",
    "scaler = StandardScaler()\n",
    "train_df[num_cols] = scaler.fit_transform(train_df[num_cols])\n",
    "test_df[num_cols] = scaler.transform(test_df[num_cols])"
   ]
  },
  {
   "cell_type": "markdown",
   "metadata": {},
   "source": [
    "## 2.2 Model\n",
    "\n",
    "I built two models, the baseline model and the comprehensive model to examine if using news features will increase the test accuracy on predicting the 10-day open stock return.\n",
    "\n",
    "The baseline model takes in only the price data, and the categorical feature of `assetCode`.\n",
    "The comprehensive model takes in both the price data and the news data, as well as the categorical feature.\n",
    "\n",
    "I used embedding layer to process the assetCodes. Other than that, I only used batchnormalization and dense layer for the model.\n",
    "\n",
    "The model can be interpretted as the following image.\n",
    "<img src=\"./model.png\" width=\"60%\">"
   ]
  },
  {
   "cell_type": "code",
   "execution_count": 387,
   "metadata": {},
   "outputs": [
    {
     "name": "stdout",
     "output_type": "stream",
     "text": [
      "Model: \"model_15\"\n",
      "__________________________________________________________________________________________________\n",
      "Layer (type)                    Output Shape         Param #     Connected to                     \n",
      "==================================================================================================\n",
      "num (InputLayer)                (None, 8)            0                                            \n",
      "__________________________________________________________________________________________________\n",
      "assetCode (InputLayer)          (None, 1)            0                                            \n",
      "__________________________________________________________________________________________________\n",
      "batch_normalization_15 (BatchNo (None, 8)            32          num[0][0]                        \n",
      "__________________________________________________________________________________________________\n",
      "embedding_16 (Embedding)        (None, 1, 10)        1000        assetCode[0][0]                  \n",
      "__________________________________________________________________________________________________\n",
      "dense_64 (Dense)                (None, 128)          1152        batch_normalization_15[0][0]     \n",
      "__________________________________________________________________________________________________\n",
      "flatten_16 (Flatten)            (None, 10)           0           embedding_16[0][0]               \n",
      "__________________________________________________________________________________________________\n",
      "dense_65 (Dense)                (None, 64)           8256        dense_64[0][0]                   \n",
      "__________________________________________________________________________________________________\n",
      "dense_63 (Dense)                (None, 32)           352         flatten_16[0][0]                 \n",
      "__________________________________________________________________________________________________\n",
      "concatenate_15 (Concatenate)    (None, 96)           0           dense_65[0][0]                   \n",
      "                                                                 dense_63[0][0]                   \n",
      "__________________________________________________________________________________________________\n",
      "dense_66 (Dense)                (None, 64)           6208        concatenate_15[0][0]             \n",
      "__________________________________________________________________________________________________\n",
      "dense_67 (Dense)                (None, 1)            65          dense_66[0][0]                   \n",
      "==================================================================================================\n",
      "Total params: 17,065\n",
      "Trainable params: 17,049\n",
      "Non-trainable params: 16\n",
      "__________________________________________________________________________________________________\n"
     ]
    }
   ],
   "source": [
    "# Baseline Model\n",
    "\n",
    "from keras.models import Model\n",
    "from keras.layers import Input, Dense, Embedding, Concatenate, Flatten, BatchNormalization, Dropout\n",
    "from keras.losses import binary_crossentropy, mse\n",
    "from keras import regularizers\n",
    "\n",
    "# 1. categorical input - assetCode\n",
    "categorical_inputs = []\n",
    "for cat in cat_cols:\n",
    "    categorical_inputs.append(Input(shape=[1], name=cat))\n",
    "    \n",
    "categorical_embeddings = []\n",
    "for i, cat in enumerate(cat_cols):\n",
    "    categorical_embeddings.append(Embedding(embed_sizes[i], 10)(categorical_inputs[i]))\n",
    "    categorical = Flatten()(categorical_embeddings[0])\n",
    "    \n",
    "categorical = Dense(32,kernel_initializer='normal',activation='relu')(categorical)\n",
    "\n",
    "\n",
    "# 2. numerical input - len(price_num_cols) = 8\n",
    "numerical_inputs = Input(shape=(len(price_num_cols),), name='num')\n",
    "numerical = numerical_inputs\n",
    "numerical = BatchNormalization()(numerical)\n",
    "numerical = Dense(128,kernel_initializer='normal',activation='relu')(numerical)\n",
    "numerical = Dense(64,kernel_initializer='normal',activation='relu')(numerical)\n",
    "\n",
    "# concatenate\n",
    "x = Concatenate()([numerical, categorical])\n",
    "x = Dense(64,activation='relu')(x)\n",
    "out = Dense(1, activation='linear')(x)\n",
    "model = Model(inputs = [numerical_inputs] + categorical_inputs , outputs=out)\n",
    "model.compile(loss='mean_absolute_error', optimizer='adam', metrics=['mean_absolute_error'])\n",
    "model.summary()"
   ]
  },
  {
   "cell_type": "code",
   "execution_count": 388,
   "metadata": {},
   "outputs": [],
   "source": [
    "# Generate input regarding the model used\n",
    "def get_input(df, model):\n",
    "    if model == 'baseline':\n",
    "        X_num = df.loc[:, price_num_cols].values\n",
    "    if model == 'comprehensive':\n",
    "        X_num = df.loc[:, num_cols].values\n",
    "    X = {'num':X_num}\n",
    "    for cat in cat_cols:\n",
    "        X[cat] = df.loc[:, cat_cols].values\n",
    "    \n",
    "    y = df.loc[:,y_col].values\n",
    "\n",
    "    return X,y\n",
    "\n",
    "X_train_1,y_train_1 = get_input(train_df, 'baseline')\n",
    "X_test_1,y_test_1 = get_input(test_df, 'baseline')"
   ]
  },
  {
   "cell_type": "code",
   "execution_count": 372,
   "metadata": {},
   "outputs": [],
   "source": [
    "# print the network structure to a PDF file\n",
    "\n",
    "from IPython.display import SVG\n",
    "from keras.utils.vis_utils import model_to_dot, plot_model\n",
    "\n",
    "SVG(model_to_dot(model, show_shapes=False).create(prog='dot', format='svg'))\n",
    "\n",
    "plot_model(\n",
    "    model=model, show_shapes=False,\n",
    "    to_file='baseline_model.pdf'\n",
    ")\n",
    "\n"
   ]
  },
  {
   "cell_type": "code",
   "execution_count": 389,
   "metadata": {},
   "outputs": [
    {
     "name": "stderr",
     "output_type": "stream",
     "text": [
      "/Library/Frameworks/Python.framework/Versions/3.7/lib/python3.7/site-packages/tensorflow_core/python/framework/indexed_slices.py:433: UserWarning: Converting sparse IndexedSlices to a dense Tensor of unknown shape. This may consume a large amount of memory.\n",
      "  \"Converting sparse IndexedSlices to a dense Tensor of unknown shape. \"\n"
     ]
    },
    {
     "name": "stdout",
     "output_type": "stream",
     "text": [
      "Train on 56958 samples, validate on 14240 samples\n",
      "Epoch 1/50\n",
      "56958/56958 [==============================] - 3s 47us/step - loss: 4.8243 - mean_absolute_error: 4.8243 - val_loss: 4.7272 - val_mean_absolute_error: 4.7272\n",
      "Epoch 2/50\n",
      "56958/56958 [==============================] - 2s 40us/step - loss: 4.7411 - mean_absolute_error: 4.7411 - val_loss: 4.7117 - val_mean_absolute_error: 4.7117\n",
      "Epoch 3/50\n",
      "56958/56958 [==============================] - 2s 40us/step - loss: 4.7157 - mean_absolute_error: 4.7157 - val_loss: 4.8216 - val_mean_absolute_error: 4.8216\n",
      "Epoch 4/50\n",
      "56958/56958 [==============================] - 2s 40us/step - loss: 4.6863 - mean_absolute_error: 4.6863 - val_loss: 4.5924 - val_mean_absolute_error: 4.5924\n",
      "Epoch 5/50\n",
      "56958/56958 [==============================] - 2s 42us/step - loss: 4.6590 - mean_absolute_error: 4.6590 - val_loss: 4.8458 - val_mean_absolute_error: 4.8458\n",
      "Epoch 6/50\n",
      "56958/56958 [==============================] - 2s 41us/step - loss: 4.6377 - mean_absolute_error: 4.6377 - val_loss: 4.5520 - val_mean_absolute_error: 4.5520\n",
      "Epoch 7/50\n",
      "56958/56958 [==============================] - 2s 40us/step - loss: 4.5987 - mean_absolute_error: 4.5987 - val_loss: 4.5279 - val_mean_absolute_error: 4.5279\n",
      "Epoch 8/50\n",
      "56958/56958 [==============================] - 2s 41us/step - loss: 4.5845 - mean_absolute_error: 4.5845 - val_loss: 4.5711 - val_mean_absolute_error: 4.5711\n",
      "Epoch 9/50\n",
      "56958/56958 [==============================] - 2s 40us/step - loss: 4.5670 - mean_absolute_error: 4.5670 - val_loss: 4.4819 - val_mean_absolute_error: 4.4819\n",
      "Epoch 10/50\n",
      "56958/56958 [==============================] - 2s 42us/step - loss: 4.5504 - mean_absolute_error: 4.5504 - val_loss: 4.5217 - val_mean_absolute_error: 4.5217\n",
      "Epoch 11/50\n",
      "56958/56958 [==============================] - 2s 40us/step - loss: 4.5309 - mean_absolute_error: 4.5309 - val_loss: 4.5184 - val_mean_absolute_error: 4.5184\n",
      "Epoch 12/50\n",
      "56958/56958 [==============================] - 2s 42us/step - loss: 4.5213 - mean_absolute_error: 4.5213 - val_loss: 4.5484 - val_mean_absolute_error: 4.5484\n",
      "Epoch 13/50\n",
      "56958/56958 [==============================] - 2s 43us/step - loss: 4.5032 - mean_absolute_error: 4.5032 - val_loss: 4.5487 - val_mean_absolute_error: 4.5487\n",
      "Epoch 14/50\n",
      "56958/56958 [==============================] - 3s 44us/step - loss: 4.4823 - mean_absolute_error: 4.4823 - val_loss: 4.3978 - val_mean_absolute_error: 4.3978\n",
      "Epoch 15/50\n",
      "56958/56958 [==============================] - 2s 43us/step - loss: 4.4689 - mean_absolute_error: 4.4689 - val_loss: 4.4625 - val_mean_absolute_error: 4.4625\n",
      "Epoch 16/50\n",
      "56958/56958 [==============================] - 2s 41us/step - loss: 4.4642 - mean_absolute_error: 4.4642 - val_loss: 4.3890 - val_mean_absolute_error: 4.3890\n",
      "Epoch 17/50\n",
      "56958/56958 [==============================] - 2s 42us/step - loss: 4.4563 - mean_absolute_error: 4.4563 - val_loss: 4.3156 - val_mean_absolute_error: 4.3156\n",
      "Epoch 18/50\n",
      "56958/56958 [==============================] - 2s 42us/step - loss: 4.4324 - mean_absolute_error: 4.4324 - val_loss: 4.5337 - val_mean_absolute_error: 4.5337\n",
      "Epoch 19/50\n",
      "56958/56958 [==============================] - 2s 41us/step - loss: 4.4158 - mean_absolute_error: 4.4158 - val_loss: 4.6176 - val_mean_absolute_error: 4.6176\n",
      "Epoch 20/50\n",
      "56958/56958 [==============================] - 2s 43us/step - loss: 4.4216 - mean_absolute_error: 4.4216 - val_loss: 4.4681 - val_mean_absolute_error: 4.4681\n",
      "Epoch 21/50\n",
      "56958/56958 [==============================] - 2s 42us/step - loss: 4.4014 - mean_absolute_error: 4.4014 - val_loss: 4.6198 - val_mean_absolute_error: 4.6198\n",
      "Epoch 22/50\n",
      "56958/56958 [==============================] - 2s 42us/step - loss: 4.3942 - mean_absolute_error: 4.3942 - val_loss: 4.7427 - val_mean_absolute_error: 4.7427\n",
      "Epoch 23/50\n",
      "56958/56958 [==============================] - 3s 44us/step - loss: 4.3794 - mean_absolute_error: 4.3794 - val_loss: 4.2945 - val_mean_absolute_error: 4.2945\n",
      "Epoch 24/50\n",
      "56958/56958 [==============================] - 2s 44us/step - loss: 4.3718 - mean_absolute_error: 4.3718 - val_loss: 4.4339 - val_mean_absolute_error: 4.4339\n",
      "Epoch 25/50\n",
      "56958/56958 [==============================] - 3s 44us/step - loss: 4.3677 - mean_absolute_error: 4.3677 - val_loss: 4.4154 - val_mean_absolute_error: 4.4154\n",
      "Epoch 26/50\n",
      "56958/56958 [==============================] - 2s 43us/step - loss: 4.3449 - mean_absolute_error: 4.3449 - val_loss: 4.2511 - val_mean_absolute_error: 4.2511\n",
      "Epoch 27/50\n",
      "56958/56958 [==============================] - 2s 42us/step - loss: 4.3372 - mean_absolute_error: 4.3372 - val_loss: 4.2124 - val_mean_absolute_error: 4.2124\n",
      "Epoch 28/50\n",
      "56958/56958 [==============================] - 2s 42us/step - loss: 4.3343 - mean_absolute_error: 4.3343 - val_loss: 4.1900 - val_mean_absolute_error: 4.1900\n",
      "Epoch 29/50\n",
      "56958/56958 [==============================] - 3s 44us/step - loss: 4.3036 - mean_absolute_error: 4.3036 - val_loss: 4.7146 - val_mean_absolute_error: 4.7146\n",
      "Epoch 30/50\n",
      "56958/56958 [==============================] - 2s 42us/step - loss: 4.3044 - mean_absolute_error: 4.3044 - val_loss: 4.7112 - val_mean_absolute_error: 4.7112\n",
      "Epoch 31/50\n",
      "56958/56958 [==============================] - 2s 42us/step - loss: 4.2896 - mean_absolute_error: 4.2896 - val_loss: 4.2208 - val_mean_absolute_error: 4.2208\n",
      "Epoch 32/50\n",
      "56958/56958 [==============================] - 2s 41us/step - loss: 4.2860 - mean_absolute_error: 4.2860 - val_loss: 4.1558 - val_mean_absolute_error: 4.1558\n",
      "Epoch 33/50\n",
      "56958/56958 [==============================] - 2s 41us/step - loss: 4.2660 - mean_absolute_error: 4.2660 - val_loss: 4.1310 - val_mean_absolute_error: 4.1310\n",
      "Epoch 34/50\n",
      "56958/56958 [==============================] - 3s 47us/step - loss: 4.2644 - mean_absolute_error: 4.2644 - val_loss: 4.1180 - val_mean_absolute_error: 4.1180\n",
      "Epoch 35/50\n",
      "56958/56958 [==============================] - 2s 41us/step - loss: 4.2498 - mean_absolute_error: 4.2498 - val_loss: 4.1449 - val_mean_absolute_error: 4.1449\n",
      "Epoch 36/50\n",
      "56958/56958 [==============================] - 2s 41us/step - loss: 4.2412 - mean_absolute_error: 4.2412 - val_loss: 4.5023 - val_mean_absolute_error: 4.5023\n",
      "Epoch 37/50\n",
      "56958/56958 [==============================] - 2s 41us/step - loss: 4.2310 - mean_absolute_error: 4.2310 - val_loss: 4.0901 - val_mean_absolute_error: 4.0901\n",
      "Epoch 38/50\n",
      "56958/56958 [==============================] - 2s 40us/step - loss: 4.2241 - mean_absolute_error: 4.2241 - val_loss: 4.6841 - val_mean_absolute_error: 4.6841\n",
      "Epoch 39/50\n",
      "56958/56958 [==============================] - 2s 40us/step - loss: 4.2218 - mean_absolute_error: 4.2218 - val_loss: 4.0590 - val_mean_absolute_error: 4.0590\n",
      "Epoch 40/50\n",
      "56958/56958 [==============================] - 2s 42us/step - loss: 4.2098 - mean_absolute_error: 4.2098 - val_loss: 4.1426 - val_mean_absolute_error: 4.1426\n",
      "Epoch 41/50\n",
      "56958/56958 [==============================] - 3s 46us/step - loss: 4.2162 - mean_absolute_error: 4.2162 - val_loss: 4.6291 - val_mean_absolute_error: 4.6291\n",
      "Epoch 42/50\n",
      "56958/56958 [==============================] - 2s 42us/step - loss: 4.1921 - mean_absolute_error: 4.1921 - val_loss: 4.4502 - val_mean_absolute_error: 4.4502\n",
      "Epoch 43/50\n",
      "56958/56958 [==============================] - 3s 51us/step - loss: 4.1903 - mean_absolute_error: 4.1903 - val_loss: 4.2731 - val_mean_absolute_error: 4.2731\n",
      "Epoch 44/50\n",
      "56958/56958 [==============================] - 2s 43us/step - loss: 4.1797 - mean_absolute_error: 4.1797 - val_loss: 4.0116 - val_mean_absolute_error: 4.0116\n",
      "Epoch 45/50\n",
      "56958/56958 [==============================] - 3s 50us/step - loss: 4.1638 - mean_absolute_error: 4.1638 - val_loss: 4.0163 - val_mean_absolute_error: 4.0163\n",
      "Epoch 46/50\n",
      "56958/56958 [==============================] - 3s 47us/step - loss: 4.1648 - mean_absolute_error: 4.1648 - val_loss: 4.8009 - val_mean_absolute_error: 4.8009\n",
      "Epoch 47/50\n",
      "56958/56958 [==============================] - 2s 42us/step - loss: 4.1636 - mean_absolute_error: 4.1636 - val_loss: 3.9829 - val_mean_absolute_error: 3.9829\n",
      "Epoch 48/50\n",
      "56958/56958 [==============================] - 2s 42us/step - loss: 4.1610 - mean_absolute_error: 4.1610 - val_loss: 4.6062 - val_mean_absolute_error: 4.6062\n"
     ]
    },
    {
     "name": "stdout",
     "output_type": "stream",
     "text": [
      "Epoch 49/50\n",
      "56958/56958 [==============================] - 2s 41us/step - loss: 4.1449 - mean_absolute_error: 4.1449 - val_loss: 3.9850 - val_mean_absolute_error: 3.9850\n",
      "Epoch 50/50\n",
      "56958/56958 [==============================] - 2s 41us/step - loss: 4.1338 - mean_absolute_error: 4.1338 - val_loss: 4.0697 - val_mean_absolute_error: 4.0697\n"
     ]
    }
   ],
   "source": [
    "history = model.fit(X_train_1, y_train_1, epochs=50, batch_size=32, validation_split = 0.2)\n"
   ]
  },
  {
   "cell_type": "markdown",
   "metadata": {},
   "source": [
    "### Comprehensive Model"
   ]
  },
  {
   "cell_type": "code",
   "execution_count": 392,
   "metadata": {},
   "outputs": [
    {
     "data": {
      "text/plain": [
       "32"
      ]
     },
     "execution_count": 392,
     "metadata": {},
     "output_type": "execute_result"
    }
   ],
   "source": [
    "len(num_cols)"
   ]
  },
  {
   "cell_type": "code",
   "execution_count": 394,
   "metadata": {},
   "outputs": [
    {
     "name": "stdout",
     "output_type": "stream",
     "text": [
      "Model: \"model_17\"\n",
      "__________________________________________________________________________________________________\n",
      "Layer (type)                    Output Shape         Param #     Connected to                     \n",
      "==================================================================================================\n",
      "num (InputLayer)                (None, 32)           0                                            \n",
      "__________________________________________________________________________________________________\n",
      "assetCode (InputLayer)          (None, 1)            0                                            \n",
      "__________________________________________________________________________________________________\n",
      "batch_normalization_17 (BatchNo (None, 32)           128         num[0][0]                        \n",
      "__________________________________________________________________________________________________\n",
      "embedding_18 (Embedding)        (None, 1, 10)        1000        assetCode[0][0]                  \n",
      "__________________________________________________________________________________________________\n",
      "dense_74 (Dense)                (None, 128)          4224        batch_normalization_17[0][0]     \n",
      "__________________________________________________________________________________________________\n",
      "flatten_18 (Flatten)            (None, 10)           0           embedding_18[0][0]               \n",
      "__________________________________________________________________________________________________\n",
      "dense_75 (Dense)                (None, 64)           8256        dense_74[0][0]                   \n",
      "__________________________________________________________________________________________________\n",
      "dense_73 (Dense)                (None, 32)           352         flatten_18[0][0]                 \n",
      "__________________________________________________________________________________________________\n",
      "concatenate_17 (Concatenate)    (None, 96)           0           dense_75[0][0]                   \n",
      "                                                                 dense_73[0][0]                   \n",
      "__________________________________________________________________________________________________\n",
      "dense_76 (Dense)                (None, 64)           6208        concatenate_17[0][0]             \n",
      "__________________________________________________________________________________________________\n",
      "dense_77 (Dense)                (None, 1)            65          dense_76[0][0]                   \n",
      "==================================================================================================\n",
      "Total params: 20,233\n",
      "Trainable params: 20,169\n",
      "Non-trainable params: 64\n",
      "__________________________________________________________________________________________________\n"
     ]
    }
   ],
   "source": [
    "# Comprehensive Model\n",
    "\n",
    "from keras.models import Model\n",
    "from keras.layers import Input, Dense, Embedding, Concatenate, Flatten, BatchNormalization, Dropout\n",
    "from keras.losses import binary_crossentropy, mse\n",
    "from keras import regularizers\n",
    "\n",
    "# 1. categorical input - assetCode\n",
    "categorical_inputs = []\n",
    "for cat in cat_cols:\n",
    "    categorical_inputs.append(Input(shape=[1], name=cat))\n",
    "    \n",
    "categorical_embeddings = []\n",
    "for i, cat in enumerate(cat_cols):\n",
    "    categorical_embeddings.append(Embedding(embed_sizes[i], 10)(categorical_inputs[i]))\n",
    "    categorical = Flatten()(categorical_embeddings[0])\n",
    "    \n",
    "categorical = Dense(32,kernel_initializer='normal',activation='relu')(categorical)\n",
    "\n",
    "\n",
    "# 2. numerical input - len(num_cols) = 32\n",
    "numerical_inputs = Input(shape=(len(num_cols),), name='num')\n",
    "numerical = numerical_inputs\n",
    "numerical = BatchNormalization()(numerical)\n",
    "numerical = Dense(128,kernel_initializer='normal',activation='relu')(numerical)\n",
    "numerical = Dense(64,kernel_initializer='normal',activation='relu')(numerical)\n",
    "\n",
    "# concatenate\n",
    "x = Concatenate()([numerical, categorical])\n",
    "x = Dense(64,activation='relu')(x)\n",
    "out = Dense(1, activation='linear')(x)\n",
    "model2 = Model(inputs = [numerical_inputs] + categorical_inputs , outputs=out)\n",
    "model2.compile(loss='mean_absolute_error', optimizer='adam', metrics=['mean_absolute_error'])\n",
    "model2.summary()"
   ]
  },
  {
   "cell_type": "code",
   "execution_count": 395,
   "metadata": {},
   "outputs": [],
   "source": [
    "# print the network structure to a PDF file\n",
    "\n",
    "from IPython.display import SVG\n",
    "from keras.utils.vis_utils import model_to_dot, plot_model\n",
    "\n",
    "SVG(model_to_dot(model2, show_shapes=False).create(prog='dot', format='svg'))\n",
    "\n",
    "plot_model(\n",
    "    model=model2, show_shapes=False,\n",
    "    to_file='comprehensive_model.pdf'\n",
    ")\n",
    "\n"
   ]
  },
  {
   "cell_type": "code",
   "execution_count": 396,
   "metadata": {},
   "outputs": [],
   "source": [
    "X_train_2,y_train_2 = get_input(train_df, 'comprehensive')\n",
    "X_test_2,y_test_2 = get_input(test_df, 'comprehensive')"
   ]
  },
  {
   "cell_type": "code",
   "execution_count": 397,
   "metadata": {},
   "outputs": [
    {
     "name": "stderr",
     "output_type": "stream",
     "text": [
      "/Library/Frameworks/Python.framework/Versions/3.7/lib/python3.7/site-packages/tensorflow_core/python/framework/indexed_slices.py:433: UserWarning: Converting sparse IndexedSlices to a dense Tensor of unknown shape. This may consume a large amount of memory.\n",
      "  \"Converting sparse IndexedSlices to a dense Tensor of unknown shape. \"\n"
     ]
    },
    {
     "name": "stdout",
     "output_type": "stream",
     "text": [
      "Train on 56958 samples, validate on 14240 samples\n",
      "Epoch 1/50\n",
      "56958/56958 [==============================] - 3s 48us/step - loss: 4.8301 - mean_absolute_error: 4.8301 - val_loss: 4.8287 - val_mean_absolute_error: 4.8287\n",
      "Epoch 2/50\n",
      "56958/56958 [==============================] - 2s 43us/step - loss: 4.7359 - mean_absolute_error: 4.7359 - val_loss: 4.7221 - val_mean_absolute_error: 4.7221\n",
      "Epoch 3/50\n",
      "56958/56958 [==============================] - 3s 44us/step - loss: 4.6941 - mean_absolute_error: 4.6941 - val_loss: 4.8265 - val_mean_absolute_error: 4.8265\n",
      "Epoch 4/50\n",
      "56958/56958 [==============================] - 2s 44us/step - loss: 4.6482 - mean_absolute_error: 4.6482 - val_loss: 4.7390 - val_mean_absolute_error: 4.7390\n",
      "Epoch 5/50\n",
      "56958/56958 [==============================] - 2s 43us/step - loss: 4.6067 - mean_absolute_error: 4.6067 - val_loss: 4.6295 - val_mean_absolute_error: 4.6295\n",
      "Epoch 6/50\n",
      "56958/56958 [==============================] - 2s 43us/step - loss: 4.5653 - mean_absolute_error: 4.5653 - val_loss: 4.6332 - val_mean_absolute_error: 4.6332\n",
      "Epoch 7/50\n",
      "56958/56958 [==============================] - 2s 43us/step - loss: 4.5321 - mean_absolute_error: 4.5321 - val_loss: 4.5722 - val_mean_absolute_error: 4.5722\n",
      "Epoch 8/50\n",
      "56958/56958 [==============================] - 2s 43us/step - loss: 4.4832 - mean_absolute_error: 4.4832 - val_loss: 4.4021 - val_mean_absolute_error: 4.4021\n",
      "Epoch 9/50\n",
      "56958/56958 [==============================] - 2s 44us/step - loss: 4.4543 - mean_absolute_error: 4.4543 - val_loss: 4.7108 - val_mean_absolute_error: 4.7108\n",
      "Epoch 10/50\n",
      "56958/56958 [==============================] - 2s 44us/step - loss: 4.4504 - mean_absolute_error: 4.4504 - val_loss: 4.7415 - val_mean_absolute_error: 4.7415\n",
      "Epoch 11/50\n",
      "56958/56958 [==============================] - 2s 44us/step - loss: 4.4000 - mean_absolute_error: 4.4000 - val_loss: 4.3409 - val_mean_absolute_error: 4.3409\n",
      "Epoch 12/50\n",
      "56958/56958 [==============================] - 2s 42us/step - loss: 4.3829 - mean_absolute_error: 4.3829 - val_loss: 4.2678 - val_mean_absolute_error: 4.2678\n",
      "Epoch 13/50\n",
      "56958/56958 [==============================] - 2s 41us/step - loss: 4.3590 - mean_absolute_error: 4.3590 - val_loss: 4.7498 - val_mean_absolute_error: 4.7498\n",
      "Epoch 14/50\n",
      "56958/56958 [==============================] - 2s 40us/step - loss: 4.3368 - mean_absolute_error: 4.3368 - val_loss: 4.2459 - val_mean_absolute_error: 4.2459\n",
      "Epoch 15/50\n",
      "56958/56958 [==============================] - 2s 42us/step - loss: 4.3248 - mean_absolute_error: 4.3248 - val_loss: 4.2591 - val_mean_absolute_error: 4.2591\n",
      "Epoch 16/50\n",
      "56958/56958 [==============================] - 2s 41us/step - loss: 4.2970 - mean_absolute_error: 4.2970 - val_loss: 4.6383 - val_mean_absolute_error: 4.6383\n",
      "Epoch 17/50\n",
      "56958/56958 [==============================] - 2s 41us/step - loss: 4.2762 - mean_absolute_error: 4.2762 - val_loss: 4.1671 - val_mean_absolute_error: 4.1671\n",
      "Epoch 18/50\n",
      "56958/56958 [==============================] - 2s 42us/step - loss: 4.2668 - mean_absolute_error: 4.2668 - val_loss: 4.2526 - val_mean_absolute_error: 4.2526\n",
      "Epoch 19/50\n",
      "56958/56958 [==============================] - 2s 41us/step - loss: 4.2463 - mean_absolute_error: 4.2463 - val_loss: 4.1288 - val_mean_absolute_error: 4.1288\n",
      "Epoch 20/50\n",
      "56958/56958 [==============================] - 2s 41us/step - loss: 4.2357 - mean_absolute_error: 4.2357 - val_loss: 4.1353 - val_mean_absolute_error: 4.1353\n",
      "Epoch 21/50\n",
      "56958/56958 [==============================] - 2s 42us/step - loss: 4.2131 - mean_absolute_error: 4.2131 - val_loss: 4.2841 - val_mean_absolute_error: 4.2841\n",
      "Epoch 22/50\n",
      "56958/56958 [==============================] - 2s 41us/step - loss: 4.1986 - mean_absolute_error: 4.1986 - val_loss: 4.1480 - val_mean_absolute_error: 4.1480\n",
      "Epoch 23/50\n",
      "56958/56958 [==============================] - 2s 41us/step - loss: 4.1776 - mean_absolute_error: 4.1776 - val_loss: 4.0867 - val_mean_absolute_error: 4.0867\n",
      "Epoch 24/50\n",
      "56958/56958 [==============================] - 2s 41us/step - loss: 4.1571 - mean_absolute_error: 4.1571 - val_loss: 4.0308 - val_mean_absolute_error: 4.0308\n",
      "Epoch 25/50\n",
      "56958/56958 [==============================] - 2s 41us/step - loss: 4.1487 - mean_absolute_error: 4.1487 - val_loss: 4.3880 - val_mean_absolute_error: 4.3880\n",
      "Epoch 26/50\n",
      "56958/56958 [==============================] - 2s 41us/step - loss: 4.1259 - mean_absolute_error: 4.1259 - val_loss: 4.5736 - val_mean_absolute_error: 4.5736\n",
      "Epoch 27/50\n",
      "56958/56958 [==============================] - 2s 41us/step - loss: 4.0999 - mean_absolute_error: 4.0999 - val_loss: 3.9676 - val_mean_absolute_error: 3.9676\n",
      "Epoch 28/50\n",
      "56958/56958 [==============================] - 3s 45us/step - loss: 4.0956 - mean_absolute_error: 4.0956 - val_loss: 3.9875 - val_mean_absolute_error: 3.9875\n",
      "Epoch 29/50\n",
      "56958/56958 [==============================] - 2s 43us/step - loss: 4.0830 - mean_absolute_error: 4.0830 - val_loss: 3.9791 - val_mean_absolute_error: 3.9791\n",
      "Epoch 30/50\n",
      "56958/56958 [==============================] - 2s 43us/step - loss: 4.0734 - mean_absolute_error: 4.0734 - val_loss: 4.0418 - val_mean_absolute_error: 4.0418\n",
      "Epoch 31/50\n",
      "56958/56958 [==============================] - 2s 43us/step - loss: 4.0487 - mean_absolute_error: 4.0487 - val_loss: 3.9699 - val_mean_absolute_error: 3.9699\n",
      "Epoch 32/50\n",
      "56958/56958 [==============================] - 2s 43us/step - loss: 4.0432 - mean_absolute_error: 4.0432 - val_loss: 4.0463 - val_mean_absolute_error: 4.0463\n",
      "Epoch 33/50\n",
      "56958/56958 [==============================] - 2s 43us/step - loss: 4.0315 - mean_absolute_error: 4.0315 - val_loss: 4.3298 - val_mean_absolute_error: 4.3298\n",
      "Epoch 34/50\n",
      "56958/56958 [==============================] - 2s 43us/step - loss: 4.0070 - mean_absolute_error: 4.0069 - val_loss: 4.0970 - val_mean_absolute_error: 4.0970\n",
      "Epoch 35/50\n",
      "56958/56958 [==============================] - 2s 43us/step - loss: 4.0085 - mean_absolute_error: 4.0085 - val_loss: 3.9128 - val_mean_absolute_error: 3.9128\n",
      "Epoch 36/50\n",
      "56958/56958 [==============================] - 2s 42us/step - loss: 4.0050 - mean_absolute_error: 4.0050 - val_loss: 3.8998 - val_mean_absolute_error: 3.8998\n",
      "Epoch 37/50\n",
      "56958/56958 [==============================] - 2s 43us/step - loss: 3.9868 - mean_absolute_error: 3.9868 - val_loss: 4.4877 - val_mean_absolute_error: 4.4877\n",
      "Epoch 38/50\n",
      "56958/56958 [==============================] - 2s 42us/step - loss: 3.9927 - mean_absolute_error: 3.9927 - val_loss: 4.1073 - val_mean_absolute_error: 4.1073\n",
      "Epoch 39/50\n",
      "56958/56958 [==============================] - 2s 42us/step - loss: 3.9744 - mean_absolute_error: 3.9744 - val_loss: 4.6507 - val_mean_absolute_error: 4.6507\n",
      "Epoch 40/50\n",
      "56958/56958 [==============================] - 2s 43us/step - loss: 3.9571 - mean_absolute_error: 3.9571 - val_loss: 4.1968 - val_mean_absolute_error: 4.1968\n",
      "Epoch 41/50\n",
      "56958/56958 [==============================] - 2s 43us/step - loss: 3.9564 - mean_absolute_error: 3.9564 - val_loss: 4.1496 - val_mean_absolute_error: 4.1496\n",
      "Epoch 42/50\n",
      "56958/56958 [==============================] - 2s 43us/step - loss: 3.9629 - mean_absolute_error: 3.9629 - val_loss: 4.2027 - val_mean_absolute_error: 4.2027\n",
      "Epoch 43/50\n",
      "56958/56958 [==============================] - 2s 43us/step - loss: 3.9206 - mean_absolute_error: 3.9206 - val_loss: 4.2345 - val_mean_absolute_error: 4.2345\n",
      "Epoch 44/50\n",
      "56958/56958 [==============================] - 2s 42us/step - loss: 3.9195 - mean_absolute_error: 3.9195 - val_loss: 3.8636 - val_mean_absolute_error: 3.8636\n",
      "Epoch 45/50\n",
      "56958/56958 [==============================] - 2s 43us/step - loss: 3.9256 - mean_absolute_error: 3.9256 - val_loss: 4.0999 - val_mean_absolute_error: 4.0999\n",
      "Epoch 46/50\n",
      "56958/56958 [==============================] - 2s 41us/step - loss: 3.9070 - mean_absolute_error: 3.9070 - val_loss: 3.7565 - val_mean_absolute_error: 3.7565\n",
      "Epoch 47/50\n",
      "56958/56958 [==============================] - 2s 43us/step - loss: 3.9014 - mean_absolute_error: 3.9014 - val_loss: 4.0125 - val_mean_absolute_error: 4.0125\n",
      "Epoch 48/50\n",
      "56958/56958 [==============================] - 2s 44us/step - loss: 3.8854 - mean_absolute_error: 3.8853 - val_loss: 4.6355 - val_mean_absolute_error: 4.6354\n"
     ]
    },
    {
     "name": "stdout",
     "output_type": "stream",
     "text": [
      "Epoch 49/50\n",
      "56958/56958 [==============================] - 2s 42us/step - loss: 3.8851 - mean_absolute_error: 3.8851 - val_loss: 4.3287 - val_mean_absolute_error: 4.3287\n",
      "Epoch 50/50\n",
      "56958/56958 [==============================] - 2s 41us/step - loss: 3.8781 - mean_absolute_error: 3.8781 - val_loss: 3.7397 - val_mean_absolute_error: 3.7397\n"
     ]
    }
   ],
   "source": [
    "history2 = model2.fit(X_train_2, y_train_2, epochs=50, batch_size=32, validation_split = 0.2)\n"
   ]
  },
  {
   "cell_type": "markdown",
   "metadata": {},
   "source": [
    "# 3. Results\n"
   ]
  },
  {
   "cell_type": "code",
   "execution_count": 404,
   "metadata": {},
   "outputs": [
    {
     "data": {
      "image/png": "[encoded data removed]",
      "text/plain": [
       "<Figure size 432x288 with 1 Axes>"
      ]
     },
     "metadata": {
      "needs_background": "light"
     },
     "output_type": "display_data"
    }
   ],
   "source": [
    "import matplotlib.pyplot as plt\n",
    "%matplotlib inline\n",
    "\n",
    "loss = history.history['loss']\n",
    "val_loss = history.history['val_loss']\n",
    "\n",
    "epochs = range(len(loss))\n",
    "\n",
    "plt.plot(epochs, loss, 'bo', label='Training Loss')\n",
    "plt.plot(epochs, val_loss, 'r', label='Validation Loss')\n",
    "plt.xlabel('Epochs')\n",
    "plt.ylabel('Loss')\n",
    "plt.legend()\n",
    "plt.title('Baseline Model')\n",
    "plt.show()"
   ]
  },
  {
   "cell_type": "code",
   "execution_count": 405,
   "metadata": {},
   "outputs": [
    {
     "data": {
      "image/png": "[encoded data removed]",
      "text/plain": [
       "<Figure size 432x288 with 1 Axes>"
      ]
     },
     "metadata": {
      "needs_background": "light"
     },
     "output_type": "display_data"
    }
   ],
   "source": [
    "import matplotlib.pyplot as plt\n",
    "%matplotlib inline\n",
    "\n",
    "loss = history2.history['loss']\n",
    "val_loss = history2.history['val_loss']\n",
    "\n",
    "epochs = range(len(loss))\n",
    "\n",
    "plt.plot(epochs, loss, 'bo', label='Training Loss')\n",
    "plt.plot(epochs, val_loss, 'r', label='Validation Loss')\n",
    "plt.xlabel('Epochs')\n",
    "plt.ylabel('Loss')\n",
    "plt.legend()\n",
    "plt.title('Comprehensive Model')\n",
    "plt.show()"
   ]
  },
  {
   "cell_type": "code",
   "execution_count": 391,
   "metadata": {},
   "outputs": [
    {
     "name": "stdout",
     "output_type": "stream",
     "text": [
      "23733/23733 [==============================] - 0s 11us/step\n",
      "loss = [4.0700893284663415, 4.070091724395752]\n"
     ]
    }
   ],
   "source": [
    "loss = model.evaluate(X_test_1,y_test_1)\n",
    "print('loss = ' + str(loss))"
   ]
  },
  {
   "cell_type": "code",
   "execution_count": 398,
   "metadata": {},
   "outputs": [
    {
     "name": "stdout",
     "output_type": "stream",
     "text": [
      "23733/23733 [==============================] - 0s 14us/step\n",
      "loss = [3.766928488649772, 3.76692795753479]\n"
     ]
    }
   ],
   "source": [
    "loss2 = model2.evaluate(X_test_2,y_test_2)\n",
    "print('loss = ' + str(loss2))"
   ]
  },
  {
   "cell_type": "code",
   "execution_count": 402,
   "metadata": {},
   "outputs": [],
   "source": [
    "result = [('Baseline', loss[0]),('Comprehensive', loss2[0])]\n",
    "result_df = pd.DataFrame(result, columns = ['Model', 'loss/mean_absolute_error']) \n"
   ]
  },
  {
   "cell_type": "code",
   "execution_count": 403,
   "metadata": {},
   "outputs": [
    {
     "data": {
      "text/html": [
       "<div>\n",
       "<style scoped>\n",
       "    .dataframe tbody tr th:only-of-type {\n",
       "        vertical-align: middle;\n",
       "    }\n",
       "\n",
       "    .dataframe tbody tr th {\n",
       "        vertical-align: top;\n",
       "    }\n",
       "\n",
       "    .dataframe thead th {\n",
       "        text-align: right;\n",
       "    }\n",
       "</style>\n",
       "<table border=\"1\" class=\"dataframe\">\n",
       "  <thead>\n",
       "    <tr style=\"text-align: right;\">\n",
       "      <th></th>\n",
       "      <th>Model</th>\n",
       "      <th>loss/mean_absolute_error</th>\n",
       "    </tr>\n",
       "  </thead>\n",
       "  <tbody>\n",
       "    <tr>\n",
       "      <th>0</th>\n",
       "      <td>Baseline</td>\n",
       "      <td>4.830115</td>\n",
       "    </tr>\n",
       "    <tr>\n",
       "      <th>1</th>\n",
       "      <td>Comprehensive</td>\n",
       "      <td>3.766928</td>\n",
       "    </tr>\n",
       "  </tbody>\n",
       "</table>\n",
       "</div>"
      ],
      "text/plain": [
       "           Model  loss/mean_absolute_error\n",
       "0       Baseline                  4.830115\n",
       "1  Comprehensive                  3.766928"
      ]
     },
     "execution_count": 403,
     "metadata": {},
     "output_type": "execute_result"
    }
   ],
   "source": [
    "result_df"
   ]
  },
  {
   "cell_type": "code",
   "execution_count": 1,
   "metadata": {},
   "outputs": [
    {
     "data": {
      "text/plain": [
       "-0.22011629122702048"
      ]
     },
     "execution_count": 1,
     "metadata": {},
     "output_type": "execute_result"
    }
   ],
   "source": [
    "(3.766928 - 4.830115)/4.830115"
   ]
  },
  {
   "cell_type": "markdown",
   "metadata": {},
   "source": [
    "# 4. Discussion"
   ]
  },
  {
   "cell_type": "markdown",
   "metadata": {},
   "source": [
    "Through the comparison in the result table, we could see that the comprehensive model performed slightly better than the baseline model, with the news data as extra input to the regression model. From the loss vs epochs plot we could also observed that there is basically no overfitting issue, probably due to adding the batchNormalization layers.\n",
    "\n",
    "The result shows a potential significant effect of the news data on the stock returns. In fact, the training has been done more than once, and each training results in a different level of loss (e.g. one training resulted in a mean absolute error of around 12). It is believed that the result will flucuate when different assets are selected.\n",
    "\n",
    "Currently, the result could not prove that the news data is useful for predicting stock returns, especially when we are using only 100 assets selected from the pool. To prove that there are significant differences between the baseline model and the comprehensive model, we should do over 30 random tests and generate an average loss for the two models. A lot of improvements can be done in the future.\n",
    "\n"
   ]
  }
 ],
 "metadata": {
  "kernelspec": {
   "display_name": "Python 3",
   "language": "python",
   "name": "python3"
  },
  "language_info": {
   "codemirror_mode": {
    "name": "ipython",
    "version": 3
   },
   "file_extension": ".py",
   "mimetype": "text/x-python",
   "name": "python",
   "nbconvert_exporter": "python",
   "pygments_lexer": "ipython3",
   "version": "3.7.6"
  }
 },
 "nbformat": 4,
 "nbformat_minor": 4
}
